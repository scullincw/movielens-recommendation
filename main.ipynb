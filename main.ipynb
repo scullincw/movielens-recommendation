{
 "cells": [
  {
   "metadata": {
    "ExecuteTime": {
     "end_time": "2024-11-01T05:04:52.383719Z",
     "start_time": "2024-11-01T05:04:52.377464Z"
    }
   },
   "cell_type": "code",
   "source": [
    "import sys\n",
    "print('Python %s on %s' % (sys.version, sys.platform))"
   ],
   "id": "538ed4db3b734bd6",
   "outputs": [
    {
     "name": "stdout",
     "output_type": "stream",
     "text": [
      "Python 3.12.4 | packaged by Anaconda, Inc. | (main, Jun 18 2024, 10:07:17) [Clang 14.0.6 ] on darwin\n"
     ]
    }
   ],
   "execution_count": 2
  },
  {
   "metadata": {
    "ExecuteTime": {
     "end_time": "2024-11-01T05:05:31.510160Z",
     "start_time": "2024-11-01T05:05:31.504982Z"
    }
   },
   "cell_type": "code",
   "source": [
    "import numpy as np\n",
    "usr_file = \"ml-1m/users.dat\"\n",
    "# 打开文件，读取所有行到data中\n",
    "with open(usr_file, 'r') as f:\n",
    "    data = f.readlines()\n",
    "# 打印data的数据长度、第一条数据、数据类型\n",
    "print(\"data 数据长度是：\",len(data))\n",
    "print(\"第一条数据是：\", data[0])\n",
    "print(\"数据类型：\", type(data[0]))"
   ],
   "id": "91d2273b466a0a95",
   "outputs": [
    {
     "name": "stdout",
     "output_type": "stream",
     "text": [
      "data 数据长度是： 6040\n",
      "第一条数据是： 1::F::1::10::48067\n",
      "\n",
      "数据类型： <class 'str'>\n"
     ]
    }
   ],
   "execution_count": 3
  },
  {
   "metadata": {},
   "cell_type": "code",
   "outputs": [],
   "execution_count": null,
   "source": "",
   "id": "8f84ed4cb4b40297"
  }
 ],
 "metadata": {
  "kernelspec": {
   "display_name": "Python 3",
   "language": "python",
   "name": "python3"
  },
  "language_info": {
   "codemirror_mode": {
    "name": "ipython",
    "version": 2
   },
   "file_extension": ".py",
   "mimetype": "text/x-python",
   "name": "python",
   "nbconvert_exporter": "python",
   "pygments_lexer": "ipython2",
   "version": "2.7.6"
  }
 },
 "nbformat": 4,
 "nbformat_minor": 5
}
